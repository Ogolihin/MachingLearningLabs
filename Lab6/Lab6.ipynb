{
 "cells": [
  {
   "cell_type": "markdown",
   "metadata": {},
   "source": [
    "## Classes"
   ]
  },
  {
   "cell_type": "code",
   "execution_count": 13,
   "metadata": {},
   "outputs": [],
   "source": [
    "import numpy as np\n",
    "\n",
    "class Hamming:\n",
    "    def __init__(self,input,eps=-1,norm=0.1,F=-1):\n",
    "        self.Input=input\n",
    "        self.T=len(input[0])/2\n",
    "        self.eps=1/len(input)if eps==-1 else eps\n",
    "        self.F=len(input)if eps==-1 else eps\n",
    "        self.norm=norm\n",
    "        self.W=input/2\n",
    "        self.V=np.identity(len(input))-self.eps+np.identity(len(input))*self.eps\n",
    "\n",
    "    def func(self,vect):\n",
    "        for i in range(len(vect)):\n",
    "            if(vect[i]<=0):\n",
    "                vect[i]=0\n",
    "            elif(vect[i]>=self.F):\n",
    "                vect[i]=self.F\n",
    "        return vect\n",
    "\n",
    "    def res(self,vect):\n",
    "        vect=np.around(vect,decimals=0)\n",
    "        if np.count_nonzero(vect)>1 or np.count_nonzero(vect)==0:\n",
    "            return \"Класс не распознан\"\n",
    "        else:\n",
    "            return \"Объект принадлежит классу %d\"%(np.flatnonzero(vect)[0])\n",
    "                \n",
    "    def compute(self,vect):\n",
    "        y1=np.dot(self.W,vect)+self.T\n",
    "        y2=self.func(np.dot(self.V,y1))\n",
    "        while np.linalg.norm(y2-y1)>self.norm:\n",
    "            y1=y2\n",
    "            y2=self.func(np.dot(self.V,y1))\n",
    "        return y2\n",
    "    \n",
    "    def getRes(self,vect):\n",
    "        return self.res(self.compute(vect))"
   ]
  },
  {
   "cell_type": "markdown",
   "metadata": {},
   "source": [
    "## Work"
   ]
  },
  {
   "cell_type": "code",
   "execution_count": 14,
   "metadata": {},
   "outputs": [],
   "source": [
    "import sys\n",
    "from Classes import *\n",
    "input=np.array([\n",
    "    [1,-1,1,-1,1,-1,1,-1,1],\n",
    "    [-1,1,-1,1,1,1,-1,1,-1],\n",
    "    [1,1,1,1,-1,1,1,1,1]])\n",
    "\n",
    "test=Hamming(input)"
   ]
  },
  {
   "cell_type": "code",
   "execution_count": 15,
   "metadata": {},
   "outputs": [
    {
     "data": {
      "text/plain": [
       "'Объект принадлежит классу 0'"
      ]
     },
     "execution_count": 15,
     "metadata": {},
     "output_type": "execute_result"
    }
   ],
   "source": [
    "vect=np.array([1,-1,-1,-1,1,-1,1,-1,1])\n",
    "test.getRes(vect)"
   ]
  },
  {
   "cell_type": "code",
   "execution_count": 16,
   "metadata": {},
   "outputs": [
    {
     "data": {
      "text/plain": [
       "'Класс не распознан'"
      ]
     },
     "execution_count": 16,
     "metadata": {},
     "output_type": "execute_result"
    }
   ],
   "source": [
    "vect1=np.array([1,1,1,-1,-1,-1,1,1,1])\n",
    "test.getRes(vect1)"
   ]
  },
  {
   "cell_type": "markdown",
   "metadata": {},
   "source": [
    "## Indexes"
   ]
  },
  {
   "cell_type": "markdown",
   "metadata": {},
   "source": [
    "### Входные значения"
   ]
  },
  {
   "cell_type": "code",
   "execution_count": 5,
   "metadata": {},
   "outputs": [],
   "source": [
    "indexes=np.array([\n",
    "    #0\n",
    "    [1, 1, 1, 1,1,\n",
    "     1,-1,-1,-1,1,\n",
    "     1,-1,-1,-1,1,\n",
    "     1,-1,-1,-1,1,\n",
    "     1,-1,-1,-1,1,\n",
    "     1,-1,-1,-1,1,\n",
    "     1,-1,-1,-1,1,\n",
    "     1,-1,-1,-1,1,\n",
    "     1, 1, 1, 1,1],\n",
    "    #1\n",
    "    [-1,-1,-1,-1,1,\n",
    "     -1,-1,-1,1,1,\n",
    "     -1,-1,1,-1,1,\n",
    "     -1,1,-1,-1,1,\n",
    "      1,-1,-1,-1,1,\n",
    "     -1,-1,-1,-1,1,\n",
    "     -1,-1,-1,-1,1,\n",
    "     -1,-1,-1,-1,1,\n",
    "     -1,-1,-1,-1,1],\n",
    "    #2\n",
    "    [ 1,1,1,1,1,\n",
    "     -1,-1,-1,-1,1,\n",
    "     -1,-1,-1,-1,1,\n",
    "     -1,-1,-1,-1,1,\n",
    "     -1,-1,-1,-1,1,\n",
    "     -1,-1,-1,1,-1,\n",
    "     -1,-1,1,-1,-1,\n",
    "     -1,1,-1,-1,-1,\n",
    "     1,1,1,1,1],\n",
    "    #3\n",
    "    [\n",
    "      1,1,1,1,1,\n",
    "     -1,-1,-1,1,-1,\n",
    "     -1,-1,1,-1,-1,\n",
    "     -1,1,-1,-1,-1,\n",
    "      1,1,1,1,1,\n",
    "     -1,-1,-1,1,-1,\n",
    "     -1,-1,1,-1,-1,\n",
    "     -1,1,-1,-1,-1,\n",
    "      1, -1, -1, -1,-1],\n",
    "    #4\n",
    "    [   1,-1,-1,-1,1,\n",
    "     1,-1,-1,-1,1,\n",
    "     1,-1,-1,-1,1,\n",
    "     1,-1,-1,-1,1,\n",
    "      1,1,1,1,1,\n",
    "     -1,-1,-1,-1,1,\n",
    "     -1,-1,-1,-1,1,\n",
    "     -1,-1,-1,-1,1,\n",
    "     -1,-1,-1,-1,1\n",
    "    ],\n",
    "    #5\n",
    "      [1, 1, 1, 1,1,\n",
    "     1,-1,-1,-1,-1,\n",
    "     1,-1,-1,-1,-1,\n",
    "     1,-1,-1,-1,-1,\n",
    "     1,1,1,1,1,\n",
    "     -1,-1,-1,-1,1,\n",
    "     -1,-1,-1,-1,1,\n",
    "     -1,-1,-1,-1,1,\n",
    "     1, 1, 1, 1,1],\n",
    "    #6\n",
    "    [-1,-1,-1,-1,1,\n",
    "     -1,-1,-1,1,-1,\n",
    "     -1,-1,1,-1,-1,\n",
    "     -1,1,-1,-1,-1,\n",
    "      1,1,1,1,1,\n",
    "     1,-1,-1,-1,1,\n",
    "     1,-1,-1,-1,1,\n",
    "     1,-1,-1,-1,1,\n",
    "     1, 1, 1, 1,1],\n",
    "    #7\n",
    "    [1,1,1,1,1,\n",
    "     -1,-1,-1,1,-1,\n",
    "     -1,-1,1,-1,-1,\n",
    "     -1,1,-1,-1,-1,\n",
    "         1,-1,-1,-1,-1,\n",
    "     1,-1,-1,-1,-1,\n",
    "     1,-1,-1,-1,-1,\n",
    "     1,-1,-1,-1,-1,\n",
    "     1, -1, -1, -1,-1],\n",
    "    #8\n",
    "    [1, 1, 1, 1,1,\n",
    "     1,-1,-1,-1,1,\n",
    "     1,-1,-1,-1,1,\n",
    "     1,-1,-1,-1,1,\n",
    "     1,1,1,1,1,\n",
    "     1,-1,-1,-1,1,\n",
    "     1,-1,-1,-1,1,\n",
    "     1,-1,-1,-1,1,\n",
    "     1, 1, 1, 1,1],\n",
    "    #9\n",
    "    [1, 1, 1, 1,1,\n",
    "     1,-1,-1,-1,1,\n",
    "     1,-1,-1,-1,1,\n",
    "     1,-1,-1,-1,1,\n",
    "     1,1,1,1,1,\n",
    "       -1,-1,-1,1,-1,\n",
    "     -1,-1,1,-1,-1,\n",
    "     -1,1,-1,-1,-1,\n",
    "      1, -1, -1, -1,-1]\n",
    "    \n",
    "])"
   ]
  },
  {
   "cell_type": "code",
   "execution_count": 17,
   "metadata": {},
   "outputs": [
    {
     "data": {
      "image/png": "[encoded data removed]",
      "text/plain": [
       "<Figure size 3000x2000 with 10 Axes>"
      ]
     },
     "metadata": {
      "needs_background": "light"
     },
     "output_type": "display_data"
    }
   ],
   "source": [
    "import matplotlib.pyplot as pl\n",
    "%matplotlib inline\n",
    "fig,axs=pl.subplots(1,10,dpi=500)\n",
    "net=Hamming(indexes)\n",
    "for i in range(10):\n",
    "    axs[i].imshow(indexes[i].reshape((9,5)))\n",
    "    axs[i].axis(\"off\")\n",
    "pl.show()"
   ]
  },
  {
   "cell_type": "code",
   "execution_count": 18,
   "metadata": {},
   "outputs": [
    {
     "name": "stdout",
     "output_type": "stream",
     "text": [
      "[0.61252772 0.         0.         0.         0.         0.\n",
      " 0.         0.         0.61252772 0.        ]\n",
      "\n",
      "Класс не распознан\n",
      "\n",
      "[0.        4.0286614 0.        0.        0.        0.        0.\n",
      " 0.        0.        0.       ]\n",
      "\n",
      "Объект принадлежит классу 1\n",
      "\n",
      "[0.         0.         5.72304323 0.         0.         0.\n",
      " 0.         0.         0.         0.        ]\n",
      "\n",
      "Объект принадлежит классу 2\n",
      "\n",
      "[0.         0.         0.         1.63546103 0.         0.\n",
      " 0.         0.         0.         0.        ]\n",
      "\n",
      "Объект принадлежит классу 3\n",
      "\n",
      "[0.       0.       0.       0.       4.580495 0.       0.       0.\n",
      " 0.       0.      ]\n",
      "\n",
      "Объект принадлежит классу 4\n",
      "\n",
      "[0.         0.         0.         0.         0.         0.59479217\n",
      " 0.         0.         0.59479217 0.        ]\n",
      "\n",
      "Класс не распознан\n",
      "\n",
      "[0.     0.     0.     0.     0.     0.     6.2576 0.     0.     0.    ]\n",
      "\n",
      "Объект принадлежит классу 6\n",
      "\n",
      "[0.         0.         0.         0.         0.         0.\n",
      " 0.         2.93246029 0.         0.        ]\n",
      "\n",
      "Объект принадлежит классу 7\n",
      "\n",
      "[0.18570312 0.         0.         0.         0.         0.18570312\n",
      " 0.         0.         0.18570312 0.        ]\n",
      "\n",
      "Класс не распознан\n",
      "\n",
      "[0.         0.         0.         0.         0.         0.\n",
      " 0.         0.         0.         3.89452949]\n",
      "\n",
      "Объект принадлежит классу 9\n",
      "\n"
     ]
    }
   ],
   "source": [
    "net=Hamming(indexes)\n",
    "for i in range(10):\n",
    "    print(\"%s\\n\"%net.compute(indexes[i]))\n",
    "    print(\"%s\\n\"%net.getRes(indexes[i]))"
   ]
  },
  {
   "cell_type": "code",
   "execution_count": 19,
   "metadata": {},
   "outputs": [
    {
     "data": {
      "image/png": "[encoded data removed]",
      "text/plain": [
       "<Figure size 432x288 with 1 Axes>"
      ]
     },
     "metadata": {
      "needs_background": "light"
     },
     "output_type": "display_data"
    }
   ],
   "source": [
    "check= np.array( [   1,-1,-1,-1,1,\n",
    "     1,-1,-1,-1,1,\n",
    "     1,-1,-1,-1,1,\n",
    "     -1,-1,-1,-1,-1,\n",
    "      1,1,-1,1,1,\n",
    "     -1,-1,-1,-1,1,\n",
    "     -1,-1,-1,-1,1,\n",
    "     -1,-1,-1,1,1,\n",
    "     -1,-1,-1,-1,1\n",
    "    ])\n",
    "pl.imshow(check.reshape((9,5)))\n",
    "pl.axis(\"off\")\n",
    "pl.show()"
   ]
  },
  {
   "cell_type": "code",
   "execution_count": 20,
   "metadata": {},
   "outputs": [
    {
     "data": {
      "text/plain": [
       "'Объект принадлежит классу 4'"
      ]
     },
     "execution_count": 20,
     "metadata": {},
     "output_type": "execute_result"
    }
   ],
   "source": [
    "net.getRes(check)"
   ]
  },
  {
   "cell_type": "code",
   "execution_count": null,
   "metadata": {},
   "outputs": [],
   "source": []
  }
 ],
 "metadata": {
  "kernelspec": {
   "display_name": "Python 3",
   "language": "python",
   "name": "python3"
  },
  "language_info": {
   "codemirror_mode": {
    "name": "ipython",
    "version": 3
   },
   "file_extension": ".py",
   "mimetype": "text/x-python",
   "name": "python",
   "nbconvert_exporter": "python",
   "pygments_lexer": "ipython3",
   "version": "3.6.7"
  }
 },
 "nbformat": 4,
 "nbformat_minor": 2
}
