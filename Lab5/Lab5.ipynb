{
 "cells": [
  {
   "cell_type": "markdown",
   "metadata": {
    "slideshow": {
     "slide_type": "notes"
    }
   },
   "source": [
    "# Задание 1"
   ]
  },
  {
   "cell_type": "code",
   "execution_count": 12,
   "metadata": {},
   "outputs": [],
   "source": [
    "# %load Classes\n",
    "from numpy import *\n",
    "import matplotlib.pyplot as pl\n",
    "class Hopfield:\n",
    "    \"\"\"Сеть Хопфилда\"\"\"\n",
    "    def __init__(self,input):\n",
    "        self.input=input\n",
    "        self.Weight=self.__GetWeigtMatrix(input)    \n",
    "\n",
    "    def __GetWeigtMatrix(cls,train):\n",
    "        '''Получение матрицы весов'''\n",
    "        W=zeros((len(train[0]),len(train[0])))\n",
    "        for tr in train:\n",
    "            V2=matrix(tr)\n",
    "            V1=transpose(V2)\n",
    "            W+=dot(V1,V2)\n",
    "        W-=diag(diag(W))\n",
    "        return W   \n",
    "\n",
    "    def Compute(self,check):\n",
    "        '''Получить класс'''\n",
    "        y=transpose(matrix(check))\n",
    "        y1=sign(dot(self.Weight,y))\n",
    "        y2=sign(dot(self.Weight,y1))\n",
    "        while not(y1==y2).all():\n",
    "            y1=y2\n",
    "            y2=sign(dot(self.Weight,y1))\n",
    "        return y2"
   ]
  },
  {
   "cell_type": "code",
   "execution_count": 13,
   "metadata": {},
   "outputs": [],
   "source": [
    "class Associative:\n",
    "   def __init__(self,input):\n",
    "       self.input=input\n",
    "       self.Weight=self.GetWeight(input)\n",
    "\n",
    "   def GetWeight(self,input):\n",
    "       l=list(input.values())[0]\n",
    "       k=list(input.keys())[0]\n",
    "       W=zeros((len(l),len(k)))\n",
    "       for item in input:\n",
    "           m=matrix(input[item])\n",
    "           W+=dot(transpose(m),matrix(item))\n",
    "       return W\n",
    "\n",
    "   def Compute(self,check):\n",
    "       x1=sign(dot(check,self.Weight))\n",
    "       y1=sign(dot(x1,transpose(self.Weight)))\n",
    "       x2=sign(dot(y1,self.Weight))\n",
    "       y2=sign(dot(x2,transpose(self.Weight)))\n",
    "       while not (x1==x2).all() and not (y1==y2).all():\n",
    "           x1,y1=x2,y2\n",
    "           x2=sign(dot(y1,self.Weight))\n",
    "           y2=sign(dot(x2,transpose(self.Weight)))\n",
    "       return (x2,y2)\n",
    "\n",
    "\n",
    "def MultiplicativeNoise(dict):\n",
    "    noize=tuple(i if i==1 else -1 for i in random.randint(0,2,len(dict)))\n",
    "    return array(noize)*array(dict)\n",
    "\n",
    "\n",
    "def AdditiveNoize(dict):\n",
    "    noize=tuple(i if i==1 else -1 for i in random.randint(0,2,len(dict)))\n",
    "    return array([-1 if i==-2 else 1 for i in array(noize)+array(dict)])\n",
    "\n",
    "def Generate(train,NoizeFunct,count):\n",
    "    source=[]\n",
    "    check=[]\n",
    "    keys=list(train.keys())\n",
    "    for i in range(count):\n",
    "        key=keys[random.randint(0,len(train)-1 if len(train)>1 else len(train))]\n",
    "        source.append(key)\n",
    "        check.append(NoizeFunct(train[key]))\n",
    "    return (source,check)"
   ]
  },
  {
   "cell_type": "code",
   "execution_count": 14,
   "metadata": {},
   "outputs": [],
   "source": [
    "from Classes import *\n",
    "import matplotlib.pyplot as pl\n",
    "import numpy as np"
   ]
  },
  {
   "cell_type": "markdown",
   "metadata": {},
   "source": [
    "### Lab5 №1"
   ]
  },
  {
   "cell_type": "code",
   "execution_count": 15,
   "metadata": {},
   "outputs": [],
   "source": [
    "train=(\n",
    "       (-1,-1,-1,-1,-1,1,\n",
    "        -1,-1,-1,-1,1,-1,\n",
    "        -1,-1,-1,1,-1,-1,\n",
    "        -1,-1,1,-1,-1,-1,\n",
    "        -1,1,-1,-1,-1,-1,\n",
    "        1,-1,-1,-1,-1,-1),\n",
    "    \n",
    "       (-1,-1,-1,-1,-1,-1,\n",
    "        -1,-1,-1,-1,-1,-1,\n",
    "        -1,-1,-1,-1,-1,-1,\n",
    "        1,1,1,-1,-1,-1,\n",
    "        1,1,1,-1,-1,-1,\n",
    "        1,1,1,-1,-1,-1),\n",
    "        \n",
    "        (-1,-1,-1,1,1,1,\n",
    "         -1,-1,-1,1,1,1,\n",
    "         -1,-1,-1,1,1,1,\n",
    "         -1,-1,-1,-1,-1,-1,\n",
    "         -1,-1,-1,-1,-1,-1,\n",
    "         -1,-1,-1,-1,-1,-1),\n",
    "         \n",
    "        (-1,-1,-1,-1,-1,-1,\n",
    "         -1,-1,1,1,-1,-1,\n",
    "         -1,1,-1,-1,1,-1,\n",
    "         1,-1,-1,-1,-1,1,\n",
    "         -1,-1,-1,-1,-1,-1,\n",
    "         -1,-1,-1,-1,-1,-1)\n",
    "       )\n",
    "\n",
    "check=(\n",
    "        (-1,-1,1,1,1,1,\n",
    "         -1,-1,-1,-1,1,1,\n",
    "         1,-1,-1,1,1,-1,\n",
    "         -1,-1,-1,-1,-1,-1,\n",
    "         -1,1,-1,-1,1,-1,\n",
    "         1,1,-1,-1,-1,1),\n",
    "\n",
    "        (-1,-1,-1,-1,-1,1,\n",
    "         -1,-1,-1,1,1,-1,\n",
    "         -1,-1,-1,1,-1,1,\n",
    "         -1,-1,1,-1,-1,-1,\n",
    "         -1,-1,-1,-1,-1,-1,\n",
    "         -1,-1,-1,-1,-1,-1),\n",
    "\n",
    "        (-1,-1,-1,-1,-1,1,\n",
    "         -1,-1,-1,-1,1,-1,\n",
    "         -1,-1,-1,1,1,-1,\n",
    "         -1,-1,-1,-1,-1,-1,\n",
    "         -1,1,-1,-1,-1,-1,\n",
    "         1,-1,-1,-1,-1,-1),\n",
    "\n",
    "        (-1,-1,-1,-1,-1,1,\n",
    "         -1,-1,-1,-1,1,-1,\n",
    "         -1,-1,-1,1,-1,-1,\n",
    "         -1,-1,1,-1,-1,-1,\n",
    "         -1,1,-1,-1,-1,-1,\n",
    "         1,-1,-1,-1,-1,-1),\n",
    "\n",
    "        (-1,-1,-1,-1,1,-1,\n",
    "         -1,1,-1,-1,-1,-1,\n",
    "         -1,-1,-1,-1,-1,1,\n",
    "         1,1,1,-1,-1,-1,\n",
    "         1,-1,1,1,-1,-1,\n",
    "         1,-1,1,-1,-1,1),\n",
    "\n",
    "        (-1,-1,-1,-1,-1,-1,\n",
    "         -1,-1,-1,-1,-1,-1,\n",
    "         -1,-1,-1,-1,-1,-1,\n",
    "         1,1,1,-1,-1,-1,\n",
    "         1,1,1,-1,-1,-1,\n",
    "         1,1,1,-1,-1,-1)\n",
    "    )"
   ]
  },
  {
   "cell_type": "code",
   "execution_count": 16,
   "metadata": {},
   "outputs": [
    {
     "data": {
      "image/png": "[encoded data removed]",
      "text/plain": [
       "<Figure size 432x288 with 12 Axes>"
      ]
     },
     "metadata": {},
     "output_type": "display_data"
    }
   ],
   "source": [
    "def main():    \n",
    "    net=Hopfield(train)\n",
    "    fig,axs=pl.subplots(2,6)\n",
    "    for i in range(6):\n",
    "        axs[0,i].imshow(np.array(check[i]).reshape(6,6))\n",
    "        axs[1,i].imshow(net.Compute(check[i]).reshape(6,6))\n",
    "        axs[0,i].axis('off')    \n",
    "        axs[1,i].axis('off')        \n",
    "    pl.show()\n",
    "   \n",
    "if __name__==\"__main__\":\n",
    "    main()"
   ]
  },
  {
   "cell_type": "markdown",
   "metadata": {},
   "source": [
    "## Использование neupy"
   ]
  },
  {
   "cell_type": "code",
   "execution_count": 17,
   "metadata": {},
   "outputs": [
    {
     "data": {
      "image/png": "[encoded data removed]",
      "text/plain": [
       "<Figure size 432x288 with 12 Axes>"
      ]
     },
     "metadata": {},
     "output_type": "display_data"
    }
   ],
   "source": [
    "from neupy import algorithms\n",
    "import matplotlib.pyplot as pl\n",
    "import numpy as np\n",
    "import Lab5 as lab5\n",
    "\n",
    "dhnet = algorithms.DiscreteHopfieldNetwork(mode='async')\n",
    "t=np.matrix([[1 if j==1 else 0 for j in i] for i in lab5.train])\n",
    "\n",
    "dhnet.train(t)\n",
    "test=(np.matrix(lab5.check[5]).ravel()+1)/2\n",
    "res=dhnet.predict(test)\n",
    "fig,axs=pl.subplots(2,6)\n",
    "for i in range(6):\n",
    "    test=(np.matrix(lab5.check[i]).ravel()+1)/2\n",
    "    res=dhnet.predict(test)\n",
    "    axs[0,i].imshow(test.reshape(6,6))\n",
    "    axs[1,i].imshow(res.reshape(6,6))\n",
    "    axs[0,i].axis('off')\n",
    "    axs[1,i].axis('off')"
   ]
  },
  {
   "cell_type": "markdown",
   "metadata": {
    "slideshow": {
     "slide_type": "fragment"
    }
   },
   "source": [
    "Задание 2\n",
    "========="
   ]
  },
  {
   "cell_type": "markdown",
   "metadata": {},
   "source": [
    "Ассоциативная сеть\n",
    "-----"
   ]
  },
  {
   "cell_type": "code",
   "execution_count": 18,
   "metadata": {},
   "outputs": [],
   "source": [
    "import random"
   ]
  },
  {
   "cell_type": "code",
   "execution_count": 19,
   "metadata": {},
   "outputs": [],
   "source": [
    "train={\n",
    "   (-1,-1,-1,1):\n",
    "   (\n",
    "   -1,-1,-1,-1,-1,-1,-1,\n",
    "   -1,-1,-1,1,-1,-1,-1,\n",
    "   -1,-1,1,1,-1,-1,-1,\n",
    "   -1,-1,-1,1,-1,-1,-1,\n",
    "   -1,-1,-1,1,-1,-1,-1,\n",
    "   -1,-1,-1,1,-1,-1,-1,\n",
    "   -1,-1,-1,1,-1,-1,-1,\n",
    "   -1,1,1,1,1,1,-1,\n",
    "   -1,-1,-1,-1,-1,-1,-1\n",
    "   ),\n",
    "    (-1,-1,1,-1):\n",
    "   (\n",
    "       -1,-1,-1,-1,-1,-1,-1,\n",
    "       -1,1,1,1,1,1,-1,\n",
    "       -1,-1,-1,-1,-1,1,-1,\n",
    "       -1,-1,-1,-1,-1,1,-1,\n",
    "       -1,1,1,1,1,1,-1,\n",
    "       -1,1,-1,-1,-1,-1,-1,\n",
    "       -1,1,-1,-1,-1,-1,-1,\n",
    "       -1,1,1,1,1,1,-1,\n",
    "       -1,-1,-1,-1,-1,-1,-1,\n",
    "   ),\n",
    "   (-1,-1,1,1):\n",
    "   (\n",
    "       -1,-1,-1,-1,-1,-1,-1,\n",
    "       -1,1,1,1,1,1,-1,\n",
    "       -1,-1,-1,-1,-1,1,-1,\n",
    "       -1,-1,-1,-1,-1,1,-1,\n",
    "       -1,-1,-1,1,1,1,-1,\n",
    "       -1,-1,-1,-1,-1,1,-1,\n",
    "       -1,-1,-1,-1,-1,1,-1,\n",
    "       -1,1,1,1,1,1,-1,\n",
    "       -1,-1,-1,-1,-1,-1,-1\n",
    "   ),\n",
    "   (-1,1,-1,-1):\n",
    "   (\n",
    "      -1,1,-1,-1,-1,1,-1,\n",
    "      -1,1,-1,-1,-1,1,-1,\n",
    "      -1,1,-1,-1,-1,1,-1,\n",
    "      -1,1,-1,-1,-1,1,-1,\n",
    "      -1,1,1,1,1,1,-1,\n",
    "      -1,-1,-1,-1,-1,1,-1,\n",
    "      -1,-1,-1,-1,-1,1,-1,\n",
    "      -1,-1,-1,-1,-1,1,-1,\n",
    "      -1,-1,-1,-1,-1,1,-1\n",
    "   )\n",
    "   }\n",
    "check=((\n",
    "   (-1,1,-1,-1,-1,-1,-1),\n",
    "   (-1,-1,-1,1,-1,-1,-1),\n",
    "   (-1,-1,1,1,-1,1,-1),\n",
    "   (-1,-1,1,1,-1,-1,-1),\n",
    "   (-1,1,-1,1,-1,-1,-1),\n",
    "   (-1,-1,-1,1,-1,1,-1),\n",
    "   (-1,-1,-1,1,-1,-1,-1),\n",
    "   (-1,1,1,1,1,1,-1),\n",
    "   (-1,-1,-1,1,-1,1,-1)\n",
    "   ),\n",
    "   (\n",
    "       (-1,-1,1,-1,-1,1,-1),\n",
    "       (-1,1,1,1,1,1,-1),\n",
    "       (-1,-1,1,-1,-1,1,-1),\n",
    "       (-1,1,-1,-1,-1,1,-1),\n",
    "       (-1,1,1,1,1,1,-1),\n",
    "       (1,1,-1,1,-1,-1,-1),\n",
    "       (-1,1,-1,-1,-1,-1,-1),\n",
    "       (-1,1,1,1,1,1,-1),\n",
    "       (-1,-1,-1,-1,1,-1,-1),\n",
    "   ),\n",
    "   (\n",
    "       (-1,-1,-1,-1,-1,-1,-1),\n",
    "       (-1,1,1,1,1,-1,-1),\n",
    "       (-1,-1,-1,-1,-1,1,-1),\n",
    "       (1,-1,-1,-1,-1,1,-1),\n",
    "       (-1,-1,-1,1,-1,1,-1),\n",
    "       (-1,-1,-1,-1,-1,1,-1),\n",
    "       (1,-1,-1,-1,-1,1,-1),\n",
    "       (-1,1,1,-1,1,1,-1),\n",
    "       (-1,-1,-1,-1,-1,-1,-1)\n",
    "   ),\n",
    "    (\n",
    "       (-1,-1,-1,-1,-1,-1,-1),\n",
    "       (-1,-1,-1,1,-1,1,-1),\n",
    "       (-1,-1,1,1,-1,-1,-1),\n",
    "       (-1,-1,-1,-1,-1,-1,-1),\n",
    "       (-1,1,-1,1,-1,-1,-1),\n",
    "       (-1,-1,-1,1,-1,-1,-1),\n",
    "       (-1,1,-1,-1,-1,-1,-1),\n",
    "       (-1,1,1,1,1,1,-1),\n",
    "       (-1,1,-1,-1,-1,-1,-1)\n",
    "       ),\n",
    "   (\n",
    "       (-1,-1,1,-1,-1,-1,-1),\n",
    "       (-1,1,1,1,1,1,-1),\n",
    "       (1,-1,1,-1,-1,1,-1),\n",
    "       (-1,-1,-1,-1,-1,1,-1),\n",
    "       (1,1,-1,1,1,-1,-1),\n",
    "       (-1,1,-1,-1,1,-1,-1),\n",
    "       (-1,1,-1,1,-1,-1,-1),\n",
    "       (-1,1,1,-1,1,1,-1),\n",
    "       (-1,-1,-1,-1,-1,-1,-1),\n",
    "   ),\n",
    "   (\n",
    "       (-1,-1,-1,-1,-1,-1,-1),\n",
    "       (-1,1,1,-1,1,1,-1),\n",
    "       (-1,-1,1,-1,-1,1,-1),\n",
    "       (1,-1,-1,-1,-1,-1,-1),\n",
    "       (-1,-1,-1,-1,1,1,-1),\n",
    "       (-1,-1,1,-1,-1,1,-1),\n",
    "       (-1,-1,-1,1,-1,1,1),\n",
    "       (-1,1,1,-1,1,1,-1),\n",
    "       (-1,1,-1,-1,-1,-1,-1)\n",
    "   )\n",
    "   )\n",
    "test={\n",
    "     (-1,-1,1):\n",
    "     (\n",
    "       -1,1,-1,\n",
    "       1,1,-1,\n",
    "       -1,1,-1,\n",
    "       -1,1,-1,\n",
    "       1,1,1\n",
    "         ),\n",
    "     (-1,1,-1):\n",
    "     (\n",
    "       1,1,1,\n",
    "       -1,-1,1,\n",
    "       1,1,1,\n",
    "       1,-1,-1,\n",
    "       1,1,1,\n",
    "         ),   \n",
    "     (-1,1,1):\n",
    "     (\n",
    "       1,1,1,\n",
    "       -1,-1,1,\n",
    "       1,1,1,\n",
    "       -1,-1,1,\n",
    "       1,1,1,\n",
    "         )\n",
    "    }\n",
    "\n",
    "testcheck=(\n",
    "     (\n",
    "       (-1,1,-1),\n",
    "       (1,1,-1),\n",
    "       (-1,-1,-1),\n",
    "       (-1,1,-1),\n",
    "       (1,1,1),\n",
    "         ),\n",
    "     (\n",
    "       (1,1,1),\n",
    "       (-1,-1,1),\n",
    "       (1,-1,1),\n",
    "       (1,-1,-1),\n",
    "       (1,-1,1),\n",
    "         ),   \n",
    "\n",
    "     (\n",
    "       (1,1,-1),\n",
    "       (1,-1,1),\n",
    "       (1,1,1),\n",
    "       (-1,-1,1),\n",
    "       (1,1,1),\n",
    "         )\n",
    "    )"
   ]
  },
  {
   "cell_type": "code",
   "execution_count": 20,
   "metadata": {},
   "outputs": [
    {
     "name": "stdout",
     "output_type": "stream",
     "text": [
      "Additive:50.10% Multiplicative:16.00% WithoutNoize:75.30%\n",
      " {(-1, -1, 1, -1): 260, (-1, -1, -1, 1): 247, (-1, -1, 1, 1): 246}\n"
     ]
    },
    {
     "data": {
      "image/png": "[encoded data removed]",
      "text/plain": [
       "<Figure size 432x288 with 9 Axes>"
      ]
     },
     "metadata": {},
     "output_type": "display_data"
    },
    {
     "data": {
      "image/png": "[encoded data removed]",
      "text/plain": [
       "<Figure size 432x288 with 18 Axes>"
      ]
     },
     "metadata": {},
     "output_type": "display_data"
    }
   ],
   "source": [
    "def main(): \n",
    "    ass=Associative(test)\n",
    "    fig,axs=pl.subplots(3,3) \n",
    "    source,check=Generate(test,AdditiveNoize,3)\n",
    "    for i in range(3):\n",
    "        axs[0,i].imshow(np.array(test[source[i]]).reshape(5,3))\n",
    "        axs[1,i].imshow(check[i].reshape(5,3))\n",
    "        res,img=ass.Compute(check[i])\n",
    "        axs[2,i].imshow(img.reshape(5,3))\n",
    "        axs[0,i].axis('off')        \n",
    "        axs[1,i].axis('off')\n",
    "        axs[2,i].axis('off')\n",
    "\n",
    "\n",
    "    ass1=Associative(train)\n",
    "    fig1,axes=pl.subplots(3,6) \n",
    "    source,check=Generate(train,AdditiveNoize,6)\n",
    "    for i in range(6):\n",
    "        axes[0,i].imshow(np.array(train[source[i]]).reshape(9,7))\n",
    "        axes[1,i].imshow(check[i].reshape(9,7))\n",
    "        res,img=ass1.Compute(check[i])\n",
    "        axes[2,i].imshow(img.reshape(9,7))\n",
    "        axes[0,i].axis('off')        \n",
    "        axes[1,i].axis('off')\n",
    "        axes[2,i].axis('off')\n",
    "\n",
    "\n",
    "    sourceA,checkA=Generate(train,AdditiveNoize,1000)\n",
    "    sourceM,checkM=Generate(train,MultiplicativeNoise,1000)\n",
    "    clear=list(train.items())*333+list(random.choice(list(train.items())))\n",
    "    random.shuffle(clear)\n",
    "\n",
    "    rA=0\n",
    "    rM=0\n",
    "    r=0\n",
    "    resdict={}\n",
    "    for i in range(1000):\n",
    "        resA,imgA=ass1.Compute(checkA[i])\n",
    "        resM,imgM=ass1.Compute(checkM[i])\n",
    "        resC,imgR=ass1.Compute(np.array(clear[i][1]))\n",
    "        if (sourceA[i]==resA).all():\n",
    "            rA+=1\n",
    "        if (sourceM[i]==resM).all():\n",
    "            rM+=1\n",
    "        if (clear[i][0]==resC).all():\n",
    "            r+=1\n",
    "            try:\n",
    "                resdict[clear[i][0]]+=1\n",
    "            except KeyError:\n",
    "                resdict[clear[i][0]]=1            \n",
    "    print(\"Additive:{0:.2%} Multiplicative:{1:.2%} WithoutNoize:{2:.2%}\\n {3}\".format(rA/1000,rM/1000,r/1000,resdict))\n",
    "    pl.axis('off')\n",
    "    pl.show()\n",
    "\n",
    "\n",
    "\n",
    "\n",
    "if __name__==\"__main__\":\n",
    "    main()"
   ]
  },
  {
   "cell_type": "markdown",
   "metadata": {},
   "source": [
    "## Использование neupy"
   ]
  },
  {
   "cell_type": "code",
   "execution_count": 21,
   "metadata": {},
   "outputs": [
    {
     "data": {
      "image/png": "[encoded data removed]",
      "text/plain": [
       "<Figure size 432x288 with 12 Axes>"
      ]
     },
     "metadata": {},
     "output_type": "display_data"
    }
   ],
   "source": [
    "from neupy import algorithms\n",
    "import matplotlib.pyplot as pl\n",
    "import numpy as np\n",
    "import Lab5_1 as lab5\n",
    "\n",
    "dhnet = algorithms.DiscreteHopfieldNetwork(mode='async')\n",
    "t=np.matrix([[1 if j==1 else 0 for j in i] for i in lab5.train.values()])\n",
    "\n",
    "dhnet.train(t)\n",
    "test=(np.matrix(lab5.check[5]).ravel()+1)/2\n",
    "res=dhnet.predict(test)\n",
    "fig,axs=pl.subplots(2,6)\n",
    "for i in range(6):\n",
    "    test=(np.matrix(lab5.check[i]).ravel()+1)/2\n",
    "    res=dhnet.predict(test)\n",
    "    axs[0,i].imshow(test.reshape(9,7))\n",
    "    axs[1,i].imshow(res.reshape(9,7))\n",
    "    axs[0,i].axis('off')\n",
    "    axs[1,i].axis('off')\n",
    "\n"
   ]
  },
  {
   "cell_type": "markdown",
   "metadata": {},
   "source": [
    "# Задание 3"
   ]
  },
  {
   "cell_type": "markdown",
   "metadata": {},
   "source": [
    "### Lab5_2.py"
   ]
  },
  {
   "cell_type": "code",
   "execution_count": 22,
   "metadata": {},
   "outputs": [
    {
     "data": {
      "image/png": "[encoded data removed]",
      "text/plain": [
       "<Figure size 432x288 with 2 Axes>"
      ]
     },
     "metadata": {},
     "output_type": "display_data"
    },
    {
     "data": {
      "image/png": "[encoded data removed]",
      "text/plain": [
       "<Figure size 432x288 with 8 Axes>"
      ]
     },
     "metadata": {},
     "output_type": "display_data"
    }
   ],
   "source": [
    "import imageio\n",
    "\n",
    "\n",
    "def main():\n",
    "    arrow=imageio.imread(\"arrow.bmp\")\n",
    "    prarrow=imageio.imread(\"pressed_arrow.bmp\")\n",
    "    input={tuple(1 if i>0 else -1 for i in arrow.ravel()):tuple(1 if i>0 else -1 for i in prarrow.ravel())}\n",
    "    ass=Associative(input)\n",
    "    fig1,axes=pl.subplots(1,2) \n",
    "    res,img=ass.Compute(np.array(list(input.values())[0]))\n",
    "    axes[0].imshow(res.reshape(32,32))\n",
    "    axes[1].imshow(img.reshape(16,16))\n",
    "    axes[0].axis('off')        \n",
    "    axes[1].axis('off')     \n",
    "\n",
    "    src,check=Generate(input,AdditiveNoize,4)\n",
    "    fig,axes=pl.subplots(2,4) \n",
    "    for i in range(4):\n",
    "        axes[0,i].imshow(check[i].reshape(16,16))\n",
    "        axes[1,i].imshow(ass.Compute(check[i])[1].reshape(16,16))\n",
    "        axes[0,i].axis('off')        \n",
    "        axes[1,i].axis('off')\n",
    "    pl.show()\n",
    "\n",
    "\n",
    "if __name__==\"__main__\":\n",
    "    main()"
   ]
  },
  {
   "cell_type": "code",
   "execution_count": 26,
   "metadata": {},
   "outputs": [],
   "source": []
  },
  {
   "cell_type": "code",
   "execution_count": null,
   "metadata": {},
   "outputs": [],
   "source": []
  }
 ],
 "metadata": {
  "kernelspec": {
   "display_name": "Python 3",
   "language": "python",
   "name": "python3"
  },
  "language_info": {
   "codemirror_mode": {
    "name": "ipython",
    "version": 3
   },
   "file_extension": ".py",
   "mimetype": "text/x-python",
   "name": "python",
   "nbconvert_exporter": "python",
   "pygments_lexer": "ipython3",
   "version": "3.6.5"
  }
 },
 "nbformat": 4,
 "nbformat_minor": 2
}
