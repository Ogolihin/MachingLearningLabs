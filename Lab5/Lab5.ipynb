{
 "cells": [
  {
   "cell_type": "markdown",
   "metadata": {
    "slideshow": {
     "slide_type": "notes"
    }
   },
   "source": [
    "# Задание 1"
   ]
  },
  {
   "cell_type": "code",
   "execution_count": 13,
   "metadata": {},
   "outputs": [
    {
     "data": {
      "image/png": "[encoded data removed]",
      "text/plain": [
       "<Figure size 432x288 with 12 Axes>"
      ]
     },
     "metadata": {},
     "output_type": "display_data"
    }
   ],
   "source": [
    "%run Lab5.py\n",
    "%matplotlib inline"
   ]
  },
  {
   "cell_type": "markdown",
   "metadata": {},
   "source": [
    "## Использование neupy"
   ]
  },
  {
   "cell_type": "code",
   "execution_count": 14,
   "metadata": {},
   "outputs": [
    {
     "data": {
      "image/png": "[encoded data removed]",
      "text/plain": [
       "<Figure size 432x288 with 12 Axes>"
      ]
     },
     "metadata": {},
     "output_type": "display_data"
    }
   ],
   "source": [
    "from neupy import algorithms\n",
    "import matplotlib.pyplot as pl\n",
    "import numpy as np\n",
    "import Lab5 as lab5\n",
    "\n",
    "dhnet = algorithms.DiscreteHopfieldNetwork(mode='async')\n",
    "t=np.matrix([[1 if j==1 else 0 for j in i] for i in lab5.train])\n",
    "\n",
    "dhnet.train(t)\n",
    "test=(np.matrix(lab5.check[5]).ravel()+1)/2\n",
    "res=dhnet.predict(test)\n",
    "fig,axs=pl.subplots(2,6)\n",
    "for i in range(6):\n",
    "    test=(np.matrix(lab5.check[i]).ravel()+1)/2\n",
    "    res=dhnet.predict(test)\n",
    "    axs[0,i].imshow(test.reshape(6,6))\n",
    "    axs[1,i].imshow(res.reshape(6,6))\n",
    "    axs[0,i].axis('off')\n",
    "    axs[1,i].axis('off')\n",
    "\n"
   ]
  },
  {
   "cell_type": "markdown",
   "metadata": {
    "slideshow": {
     "slide_type": "fragment"
    }
   },
   "source": [
    "# Задание 2"
   ]
  },
  {
   "cell_type": "code",
   "execution_count": 15,
   "metadata": {},
   "outputs": [
    {
     "name": "stdout",
     "output_type": "stream",
     "text": [
      "Additive:48.60% Multiplicative:17.80% WithoutNoize:74.70%\n",
      " {(-1, -1, 1, 1): 247, (-1, -1, 1, -1): 255, (-1, -1, -1, 1): 245}\n"
     ]
    },
    {
     "data": {
      "image/png": "[encoded data removed]",
      "text/plain": [
       "<Figure size 432x288 with 9 Axes>"
      ]
     },
     "metadata": {},
     "output_type": "display_data"
    },
    {
     "data": {
      "image/png": "[encoded data removed]",
      "text/plain": [
       "<Figure size 432x288 with 18 Axes>"
      ]
     },
     "metadata": {},
     "output_type": "display_data"
    },
    {
     "data": {
      "text/plain": [
       "<Figure size 432x288 with 0 Axes>"
      ]
     },
     "metadata": {},
     "output_type": "display_data"
    }
   ],
   "source": [
    "%run Lab5_1.py"
   ]
  },
  {
   "cell_type": "markdown",
   "metadata": {},
   "source": [
    "## Использование neupy"
   ]
  },
  {
   "cell_type": "code",
   "execution_count": 16,
   "metadata": {},
   "outputs": [
    {
     "data": {
      "image/png": "[encoded data removed]",
      "text/plain": [
       "<Figure size 432x288 with 12 Axes>"
      ]
     },
     "metadata": {},
     "output_type": "display_data"
    }
   ],
   "source": [
    "from neupy import algorithms\n",
    "import matplotlib.pyplot as pl\n",
    "import numpy as np\n",
    "import Lab5_1 as lab5\n",
    "\n",
    "dhnet = algorithms.DiscreteHopfieldNetwork(mode='async')\n",
    "t=np.matrix([[1 if j==1 else 0 for j in i] for i in lab5.train.values()])\n",
    "\n",
    "dhnet.train(t)\n",
    "test=(np.matrix(lab5.check[5]).ravel()+1)/2\n",
    "res=dhnet.predict(test)\n",
    "fig,axs=pl.subplots(2,6)\n",
    "for i in range(6):\n",
    "    test=(np.matrix(lab5.check[i]).ravel()+1)/2\n",
    "    res=dhnet.predict(test)\n",
    "    axs[0,i].imshow(test.reshape(9,7))\n",
    "    axs[1,i].imshow(res.reshape(9,7))\n",
    "    axs[0,i].axis('off')\n",
    "    axs[1,i].axis('off')\n",
    "\n"
   ]
  },
  {
   "cell_type": "markdown",
   "metadata": {},
   "source": [
    "# Задание 3"
   ]
  },
  {
   "cell_type": "code",
   "execution_count": 17,
   "metadata": {},
   "outputs": [
    {
     "data": {
      "image/png": "[encoded data removed]",
      "text/plain": [
       "<Figure size 432x288 with 2 Axes>"
      ]
     },
     "metadata": {},
     "output_type": "display_data"
    },
    {
     "data": {
      "image/png": "[encoded data removed]",
      "text/plain": [
       "<Figure size 432x288 with 8 Axes>"
      ]
     },
     "metadata": {},
     "output_type": "display_data"
    },
    {
     "data": {
      "text/plain": [
       "<Figure size 432x288 with 0 Axes>"
      ]
     },
     "metadata": {},
     "output_type": "display_data"
    }
   ],
   "source": [
    "%run Lab5_2.py"
   ]
  }
 ],
 "metadata": {
  "kernelspec": {
   "display_name": "Python 3",
   "language": "python",
   "name": "python3"
  },
  "language_info": {
   "codemirror_mode": {
    "name": "ipython",
    "version": 3
   },
   "file_extension": ".py",
   "mimetype": "text/x-python",
   "name": "python",
   "nbconvert_exporter": "python",
   "pygments_lexer": "ipython3",
   "version": "3.6.5"
  }
 },
 "nbformat": 4,
 "nbformat_minor": 2
}
