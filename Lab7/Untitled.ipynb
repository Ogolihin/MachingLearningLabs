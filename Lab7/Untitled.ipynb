{
 "cells": [
  {
   "cell_type": "code",
   "execution_count": 3,
   "metadata": {},
   "outputs": [
    {
     "name": "stderr",
     "output_type": "stream",
     "text": [
      "Using TensorFlow backend.\n"
     ]
    }
   ],
   "source": [
    "# %load Classes\n",
    "import numpy as np\n",
    "from keras.datasets import cifar10\n",
    "from keras.models import Sequential,load_model,model_from_json\n",
    "from keras.layers import Dense,Flatten,Activation,Dropout \n",
    "from keras.layers.convolutional import Conv2D, MaxPooling2D \n",
    "from keras.utils import np_utils  \n",
    "import sklearn.preprocessing as sk\n",
    "\n",
    "class ConvolutionNetwork:\n",
    "    def Create(self):\n",
    "        model=Sequential()\n",
    "        model.add(Conv2D(filters=32, kernel_size=(3, 3), padding='valid', input_shape=(32,32,3),activation='relu',data_format=\"channels_last\"))\n",
    "        model.add(Conv2D(filters=32, kernel_size=(3, 3), activation='relu',data_format=\"channels_last\")) \n",
    "        model.add(MaxPooling2D(pool_size=(2,2), data_format='channels_last')) \n",
    "        model.add(Dropout(0.25))  \n",
    "        model.add(Conv2D(64, (3, 3), padding='valid', activation='relu',data_format=\"channels_last\")) \n",
    "        model.add(Conv2D(64, (3, 3), activation='relu',data_format=\"channels_last\")) \n",
    "        model.add(MaxPooling2D(pool_size=(2,2), data_format='channels_last')) \n",
    "        model.add(Dropout(0.25)) \n",
    "        model.add(Flatten())\n",
    "        model.add(Dense(512, activation='relu'))\n",
    "        model.add(Dropout(0.5))  \n",
    "        model.add(Dense(10, activation='softmax'))\n",
    "        self.model=model\n",
    "\n",
    "    def Compile(self):\n",
    "        self.model.compile('SGD','categorical_crossentropy',['accuracy'])\n",
    "\n",
    "    def LoadData(self):\n",
    "        (x_train,y_train),(x_test,y_test)=cifar10.load_data()\n",
    "        self.x_train=x_train/255\n",
    "        self.x_test=x_test/255\n",
    "        self.y_train=np_utils.to_categorical(y_train,10)\n",
    "        self.y_test=np_utils.to_categorical(y_test,10)\n",
    "    def Fit(self):\n",
    "        self.model.fit(self.x_train,self.y_train,32,25,validation_split=0.1,shuffle=True)\n",
    "\n",
    "    def Save(self):\n",
    "        model_json = self.model.to_json()\n",
    "        json_file = open(\"model.json\", \"w\")\n",
    "        json_file.write(model_json)\n",
    "        json_file.close()\n",
    "        self.model.save_weights(\"weights.h5\")\n",
    "\n",
    "    def Load(self):\n",
    "        json_file = open(\"model.json\", \"r\")\n",
    "        loaded_model_json = json_file.read()\n",
    "        json_file.close()\n",
    "        self.model = model_from_json(loaded_model_json)\n",
    "        self.model.load_weights(\"weights.h5\")\n",
    "        self.Compile()\n",
    "\n",
    "    def Evaluate(self):\n",
    "        scores = self.model.evaluate(self.x_test,self.y_test, verbose=0)\n",
    "        print(\"Точность модели на тестовых данных: %.2f%%\"% (scores[1]*100))\n",
    "\n",
    "\n",
    "\n"
   ]
  },
  {
   "cell_type": "code",
   "execution_count": null,
   "metadata": {},
   "outputs": [],
   "source": [
    "net=ConvolutionNetwork()\n",
    "net.LoadData()\n",
    "net.Load()\n",
    "net.Evaluate()"
   ]
  },
  {
   "cell_type": "code",
   "execution_count": null,
   "metadata": {},
   "outputs": [],
   "source": []
  }
 ],
 "metadata": {
  "kernelspec": {
   "display_name": "Python 3",
   "language": "python",
   "name": "python3"
  },
  "language_info": {
   "codemirror_mode": {
    "name": "ipython",
    "version": 3
   },
   "file_extension": ".py",
   "mimetype": "text/x-python",
   "name": "python",
   "nbconvert_exporter": "python",
   "pygments_lexer": "ipython3",
   "version": "3.6.7"
  }
 },
 "nbformat": 4,
 "nbformat_minor": 2
}
